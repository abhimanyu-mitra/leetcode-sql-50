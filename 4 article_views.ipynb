{
 "cells": [
  {
   "cell_type": "markdown",
   "metadata": {},
   "source": [
    "[1148. Article Views I](https://leetcode.com/problems/article-views-i/description/?envType=study-plan-v2&envId=top-sql-50)"
   ]
  },
  {
   "cell_type": "code",
   "execution_count": 2,
   "metadata": {},
   "outputs": [],
   "source": [
    "import findspark\n",
    "findspark.init()\n",
    "\n",
    "import datetime"
   ]
  },
  {
   "cell_type": "code",
   "execution_count": 3,
   "metadata": {},
   "outputs": [],
   "source": [
    "from pyspark.sql.session import SparkSession\n",
    "import pyspark.sql.functions as F\n",
    "import pyspark.sql.types as T\n",
    "from pyspark.sql.window import Window\n",
    "\n",
    "spark = SparkSession.builder.master(\"local\").appName(\"playground\").getOrCreate()"
   ]
  },
  {
   "cell_type": "code",
   "execution_count": 6,
   "metadata": {},
   "outputs": [
    {
     "name": "stdout",
     "output_type": "stream",
     "text": [
      "+----------+---------+---------+----------+\n",
      "|article_id|author_id|viewer_id| view_date|\n",
      "+----------+---------+---------+----------+\n",
      "|         1|        3|        5|2019-08-01|\n",
      "|         1|        3|        6|2019-08-02|\n",
      "|         2|        7|        7|2019-08-01|\n",
      "|         2|        7|        6|2019-08-02|\n",
      "|         4|        7|        1|2019-07-22|\n",
      "|         3|        4|        4|2019-07-21|\n",
      "|         3|        4|        4|2019-07-21|\n",
      "+----------+---------+---------+----------+\n",
      "\n"
     ]
    }
   ],
   "source": [
    "views_schema = T.StructType(\n",
    "    [\n",
    "        T.StructField(\"article_id\", T.IntegerType(), False),\n",
    "        T.StructField(\"author_id\", T.IntegerType(), False),\n",
    "        T.StructField(\"viewer_id\", T.IntegerType(), False),\n",
    "        T.StructField(\"view_date\", T.DateType(), False)\n",
    "    ]\n",
    ")\n",
    "\n",
    "views_data = [\n",
    "    (1, 3, 5, datetime.date(2019, 8, 1)),\n",
    "    (1, 3, 6, datetime.date(2019, 8, 2)),\n",
    "    (2, 7, 7, datetime.date(2019, 8, 1)),\n",
    "    (2, 7, 6, datetime.date(2019, 8, 2)),\n",
    "    (4, 7, 1, datetime.date(2019, 7, 22)),\n",
    "    (3, 4, 4, datetime.date(2019, 7, 21)),\n",
    "    (3, 4, 4, datetime.date(2019, 7, 21))\n",
    "]\n",
    "\n",
    "views = spark.createDataFrame(views_data, views_schema)\n",
    "\n",
    "views.show()"
   ]
  },
  {
   "cell_type": "code",
   "execution_count": 12,
   "metadata": {},
   "outputs": [
    {
     "name": "stdout",
     "output_type": "stream",
     "text": [
      "+---+\n",
      "| id|\n",
      "+---+\n",
      "|  4|\n",
      "|  7|\n",
      "+---+\n",
      "\n"
     ]
    }
   ],
   "source": [
    "(views.where(\"(author_id = viewer_id)\")\n",
    ".selectExpr(\"author_id as id\").sort(F.col(\"id\").asc()).distinct()\n",
    ".show())"
   ]
  }
 ],
 "metadata": {
  "kernelspec": {
   "display_name": "Python 3",
   "language": "python",
   "name": "python3"
  },
  "language_info": {
   "codemirror_mode": {
    "name": "ipython",
    "version": 3
   },
   "file_extension": ".py",
   "mimetype": "text/x-python",
   "name": "python",
   "nbconvert_exporter": "python",
   "pygments_lexer": "ipython3",
   "version": "3.7.7rc1"
  }
 },
 "nbformat": 4,
 "nbformat_minor": 2
}
