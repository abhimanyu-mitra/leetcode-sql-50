{
 "cells": [
  {
   "cell_type": "markdown",
   "metadata": {},
   "source": [
    "[1581. Customer Who Visited but Did Not Make Any Transactions](https://leetcode.com/problems/customer-who-visited-but-did-not-make-any-transactions/?envType=study-plan-v2&envId=top-sql-50)"
   ]
  },
  {
   "cell_type": "code",
   "execution_count": 2,
   "metadata": {},
   "outputs": [],
   "source": [
    "import findspark\n",
    "findspark.init()\n",
    "\n",
    "import datetime"
   ]
  },
  {
   "cell_type": "code",
   "execution_count": 3,
   "metadata": {},
   "outputs": [],
   "source": [
    "from pyspark.sql.session import SparkSession\n",
    "import pyspark.sql.functions as F\n",
    "import pyspark.sql.types as T\n",
    "from pyspark.sql.window import Window\n",
    "\n",
    "spark = SparkSession.builder.master(\"local\").appName(\"playground\").getOrCreate()"
   ]
  },
  {
   "cell_type": "code",
   "execution_count": 4,
   "metadata": {},
   "outputs": [
    {
     "name": "stdout",
     "output_type": "stream",
     "text": [
      "+--------+-----------+\n",
      "|visit_id|customer_id|\n",
      "+--------+-----------+\n",
      "|       1|         23|\n",
      "|       2|          9|\n",
      "|       4|         30|\n",
      "|       5|         54|\n",
      "|       6|         96|\n",
      "|       7|         54|\n",
      "|       8|         54|\n",
      "+--------+-----------+\n",
      "\n",
      "+--------------+--------+------+\n",
      "|transaction_id|visit_id|amount|\n",
      "+--------------+--------+------+\n",
      "|             2|       5|   310|\n",
      "|             3|       5|   300|\n",
      "|             9|       5|   200|\n",
      "|            12|       1|   910|\n",
      "|            13|       2|   970|\n",
      "+--------------+--------+------+\n",
      "\n"
     ]
    }
   ],
   "source": [
    "visits_schema = T.StructType(\n",
    "    [\n",
    "        T.StructField(\"visit_id\", T.IntegerType(), False),\n",
    "        T.StructField(\"customer_id\", T.IntegerType(), False)\n",
    "    ]\n",
    ")\n",
    "\n",
    "transactions_schema = T.StructType(\n",
    "    [\n",
    "        T.StructField(\"transaction_id\", T.IntegerType(), False),\n",
    "        T.StructField(\"visit_id\", T.IntegerType(), False),\n",
    "        T.StructField(\"amount\", T.IntegerType(), False)\n",
    "    ]\n",
    ")\n",
    "\n",
    "visits_data = [\n",
    "    (1, 23),\n",
    "    (2, 9),\n",
    "    (4, 30),\n",
    "    (5, 54),\n",
    "    (6, 96),\n",
    "    (7, 54),\n",
    "    (8, 54)\n",
    "]\n",
    "\n",
    "transactions_data = [\n",
    "    (2, 5, 310),\n",
    "    (3, 5, 300),\n",
    "    (9, 5, 200),\n",
    "    (12, 1, 910),\n",
    "    (13, 2, 970)\n",
    "]\n",
    "\n",
    "visits = spark.createDataFrame(visits_data, visits_schema)\n",
    "visits.show()\n",
    "\n",
    "transactions = spark.createDataFrame(transactions_data, transactions_schema)\n",
    "transactions.show()"
   ]
  },
  {
   "cell_type": "code",
   "execution_count": 8,
   "metadata": {},
   "outputs": [
    {
     "name": "stdout",
     "output_type": "stream",
     "text": [
      "+-----------+--------------+\n",
      "|customer_id|transaction_id|\n",
      "+-----------+--------------+\n",
      "|         23|            12|\n",
      "|         96|          null|\n",
      "|         54|             2|\n",
      "|         54|             3|\n",
      "|         54|             9|\n",
      "|         30|          null|\n",
      "|         54|          null|\n",
      "|         54|          null|\n",
      "|          9|            13|\n",
      "+-----------+--------------+\n",
      "\n"
     ]
    }
   ],
   "source": [
    "visit_txn = (visits\n",
    "             .join(transactions, [\"visit_id\"], \"left\")\n",
    "             .select(\"customer_id\", \"transaction_id\"))\n",
    "\n",
    "visit_txn.show()"
   ]
  },
  {
   "cell_type": "code",
   "execution_count": 11,
   "metadata": {},
   "outputs": [
    {
     "name": "stdout",
     "output_type": "stream",
     "text": [
      "+-----------+--------------+\n",
      "|customer_id|transaction_id|\n",
      "+-----------+--------------+\n",
      "|         96|          null|\n",
      "|         30|          null|\n",
      "|         54|          null|\n",
      "|         54|          null|\n",
      "+-----------+--------------+\n",
      "\n"
     ]
    }
   ],
   "source": [
    "null_visit_txn = visit_txn.where(\"transaction_id is null\")\n",
    "null_visit_txn.show()\n"
   ]
  },
  {
   "cell_type": "code",
   "execution_count": 13,
   "metadata": {},
   "outputs": [
    {
     "name": "stdout",
     "output_type": "stream",
     "text": [
      "+-----------+--------------+\n",
      "|customer_id|count_no_trans|\n",
      "+-----------+--------------+\n",
      "|         54|             2|\n",
      "|         96|             1|\n",
      "|         30|             1|\n",
      "+-----------+--------------+\n",
      "\n"
     ]
    }
   ],
   "source": [
    "(null_visit_txn\n",
    " .groupBy(\"customer_id\")\n",
    " .agg(F.count(\"customer_id\")\n",
    "      .alias(\"count_no_trans\"))\n",
    " .show())"
   ]
  }
 ],
 "metadata": {
  "kernelspec": {
   "display_name": "Python 3",
   "language": "python",
   "name": "python3"
  },
  "language_info": {
   "codemirror_mode": {
    "name": "ipython",
    "version": 3
   },
   "file_extension": ".py",
   "mimetype": "text/x-python",
   "name": "python",
   "nbconvert_exporter": "python",
   "pygments_lexer": "ipython3",
   "version": "3.7.7rc1"
  }
 },
 "nbformat": 4,
 "nbformat_minor": 2
}
